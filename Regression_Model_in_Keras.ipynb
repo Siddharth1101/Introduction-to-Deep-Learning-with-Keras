{
 "cells": [
  {
   "cell_type": "markdown",
   "metadata": {},
   "source": [
    "## Download and Clean Dataset\n",
    "Let's start by importing the <em>pandas</em> and the <em>Numpy</em> libraries."
   ]
  },
  {
   "cell_type": "code",
   "execution_count": 1,
   "metadata": {},
   "outputs": [
    {
     "data": {
      "text/html": [
       "<div>\n",
       "<style scoped>\n",
       "    .dataframe tbody tr th:only-of-type {\n",
       "        vertical-align: middle;\n",
       "    }\n",
       "\n",
       "    .dataframe tbody tr th {\n",
       "        vertical-align: top;\n",
       "    }\n",
       "\n",
       "    .dataframe thead th {\n",
       "        text-align: right;\n",
       "    }\n",
       "</style>\n",
       "<table border=\"1\" class=\"dataframe\">\n",
       "  <thead>\n",
       "    <tr style=\"text-align: right;\">\n",
       "      <th></th>\n",
       "      <th>Cement</th>\n",
       "      <th>Blast Furnace Slag</th>\n",
       "      <th>Fly Ash</th>\n",
       "      <th>Water</th>\n",
       "      <th>Superplasticizer</th>\n",
       "      <th>Coarse Aggregate</th>\n",
       "      <th>Fine Aggregate</th>\n",
       "      <th>Age</th>\n",
       "      <th>Strength</th>\n",
       "    </tr>\n",
       "  </thead>\n",
       "  <tbody>\n",
       "    <tr>\n",
       "      <th>0</th>\n",
       "      <td>540.0</td>\n",
       "      <td>0.0</td>\n",
       "      <td>0.0</td>\n",
       "      <td>162.0</td>\n",
       "      <td>2.5</td>\n",
       "      <td>1040.0</td>\n",
       "      <td>676.0</td>\n",
       "      <td>28</td>\n",
       "      <td>79.99</td>\n",
       "    </tr>\n",
       "    <tr>\n",
       "      <th>1</th>\n",
       "      <td>540.0</td>\n",
       "      <td>0.0</td>\n",
       "      <td>0.0</td>\n",
       "      <td>162.0</td>\n",
       "      <td>2.5</td>\n",
       "      <td>1055.0</td>\n",
       "      <td>676.0</td>\n",
       "      <td>28</td>\n",
       "      <td>61.89</td>\n",
       "    </tr>\n",
       "    <tr>\n",
       "      <th>2</th>\n",
       "      <td>332.5</td>\n",
       "      <td>142.5</td>\n",
       "      <td>0.0</td>\n",
       "      <td>228.0</td>\n",
       "      <td>0.0</td>\n",
       "      <td>932.0</td>\n",
       "      <td>594.0</td>\n",
       "      <td>270</td>\n",
       "      <td>40.27</td>\n",
       "    </tr>\n",
       "    <tr>\n",
       "      <th>3</th>\n",
       "      <td>332.5</td>\n",
       "      <td>142.5</td>\n",
       "      <td>0.0</td>\n",
       "      <td>228.0</td>\n",
       "      <td>0.0</td>\n",
       "      <td>932.0</td>\n",
       "      <td>594.0</td>\n",
       "      <td>365</td>\n",
       "      <td>41.05</td>\n",
       "    </tr>\n",
       "    <tr>\n",
       "      <th>4</th>\n",
       "      <td>198.6</td>\n",
       "      <td>132.4</td>\n",
       "      <td>0.0</td>\n",
       "      <td>192.0</td>\n",
       "      <td>0.0</td>\n",
       "      <td>978.4</td>\n",
       "      <td>825.5</td>\n",
       "      <td>360</td>\n",
       "      <td>44.30</td>\n",
       "    </tr>\n",
       "  </tbody>\n",
       "</table>\n",
       "</div>"
      ],
      "text/plain": [
       "   Cement  Blast Furnace Slag  Fly Ash  Water  Superplasticizer  \\\n",
       "0   540.0                 0.0      0.0  162.0               2.5   \n",
       "1   540.0                 0.0      0.0  162.0               2.5   \n",
       "2   332.5               142.5      0.0  228.0               0.0   \n",
       "3   332.5               142.5      0.0  228.0               0.0   \n",
       "4   198.6               132.4      0.0  192.0               0.0   \n",
       "\n",
       "   Coarse Aggregate  Fine Aggregate  Age  Strength  \n",
       "0            1040.0           676.0   28     79.99  \n",
       "1            1055.0           676.0   28     61.89  \n",
       "2             932.0           594.0  270     40.27  \n",
       "3             932.0           594.0  365     41.05  \n",
       "4             978.4           825.5  360     44.30  "
      ]
     },
     "execution_count": 1,
     "metadata": {},
     "output_type": "execute_result"
    }
   ],
   "source": [
    "import pandas as pd\n",
    "import numpy as np\n",
    "concrete_data = pd.read_csv('https://cocl.us/concrete_data')\n",
    "concrete_data.head()"
   ]
  },
  {
   "cell_type": "code",
   "execution_count": 2,
   "metadata": {},
   "outputs": [
    {
     "data": {
      "text/plain": [
       "(1030, 9)"
      ]
     },
     "execution_count": 2,
     "metadata": {},
     "output_type": "execute_result"
    }
   ],
   "source": [
    "concrete_data.shape"
   ]
  },
  {
   "cell_type": "markdown",
   "metadata": {},
   "source": [
    "Let's check the dataset for any missing values."
   ]
  },
  {
   "cell_type": "code",
   "execution_count": 3,
   "metadata": {},
   "outputs": [
    {
     "data": {
      "text/html": [
       "<div>\n",
       "<style scoped>\n",
       "    .dataframe tbody tr th:only-of-type {\n",
       "        vertical-align: middle;\n",
       "    }\n",
       "\n",
       "    .dataframe tbody tr th {\n",
       "        vertical-align: top;\n",
       "    }\n",
       "\n",
       "    .dataframe thead th {\n",
       "        text-align: right;\n",
       "    }\n",
       "</style>\n",
       "<table border=\"1\" class=\"dataframe\">\n",
       "  <thead>\n",
       "    <tr style=\"text-align: right;\">\n",
       "      <th></th>\n",
       "      <th>Cement</th>\n",
       "      <th>Blast Furnace Slag</th>\n",
       "      <th>Fly Ash</th>\n",
       "      <th>Water</th>\n",
       "      <th>Superplasticizer</th>\n",
       "      <th>Coarse Aggregate</th>\n",
       "      <th>Fine Aggregate</th>\n",
       "      <th>Age</th>\n",
       "      <th>Strength</th>\n",
       "    </tr>\n",
       "  </thead>\n",
       "  <tbody>\n",
       "    <tr>\n",
       "      <th>count</th>\n",
       "      <td>1030.000000</td>\n",
       "      <td>1030.000000</td>\n",
       "      <td>1030.000000</td>\n",
       "      <td>1030.000000</td>\n",
       "      <td>1030.000000</td>\n",
       "      <td>1030.000000</td>\n",
       "      <td>1030.000000</td>\n",
       "      <td>1030.000000</td>\n",
       "      <td>1030.000000</td>\n",
       "    </tr>\n",
       "    <tr>\n",
       "      <th>mean</th>\n",
       "      <td>281.167864</td>\n",
       "      <td>73.895825</td>\n",
       "      <td>54.188350</td>\n",
       "      <td>181.567282</td>\n",
       "      <td>6.204660</td>\n",
       "      <td>972.918932</td>\n",
       "      <td>773.580485</td>\n",
       "      <td>45.662136</td>\n",
       "      <td>35.817961</td>\n",
       "    </tr>\n",
       "    <tr>\n",
       "      <th>std</th>\n",
       "      <td>104.506364</td>\n",
       "      <td>86.279342</td>\n",
       "      <td>63.997004</td>\n",
       "      <td>21.354219</td>\n",
       "      <td>5.973841</td>\n",
       "      <td>77.753954</td>\n",
       "      <td>80.175980</td>\n",
       "      <td>63.169912</td>\n",
       "      <td>16.705742</td>\n",
       "    </tr>\n",
       "    <tr>\n",
       "      <th>min</th>\n",
       "      <td>102.000000</td>\n",
       "      <td>0.000000</td>\n",
       "      <td>0.000000</td>\n",
       "      <td>121.800000</td>\n",
       "      <td>0.000000</td>\n",
       "      <td>801.000000</td>\n",
       "      <td>594.000000</td>\n",
       "      <td>1.000000</td>\n",
       "      <td>2.330000</td>\n",
       "    </tr>\n",
       "    <tr>\n",
       "      <th>25%</th>\n",
       "      <td>192.375000</td>\n",
       "      <td>0.000000</td>\n",
       "      <td>0.000000</td>\n",
       "      <td>164.900000</td>\n",
       "      <td>0.000000</td>\n",
       "      <td>932.000000</td>\n",
       "      <td>730.950000</td>\n",
       "      <td>7.000000</td>\n",
       "      <td>23.710000</td>\n",
       "    </tr>\n",
       "    <tr>\n",
       "      <th>50%</th>\n",
       "      <td>272.900000</td>\n",
       "      <td>22.000000</td>\n",
       "      <td>0.000000</td>\n",
       "      <td>185.000000</td>\n",
       "      <td>6.400000</td>\n",
       "      <td>968.000000</td>\n",
       "      <td>779.500000</td>\n",
       "      <td>28.000000</td>\n",
       "      <td>34.445000</td>\n",
       "    </tr>\n",
       "    <tr>\n",
       "      <th>75%</th>\n",
       "      <td>350.000000</td>\n",
       "      <td>142.950000</td>\n",
       "      <td>118.300000</td>\n",
       "      <td>192.000000</td>\n",
       "      <td>10.200000</td>\n",
       "      <td>1029.400000</td>\n",
       "      <td>824.000000</td>\n",
       "      <td>56.000000</td>\n",
       "      <td>46.135000</td>\n",
       "    </tr>\n",
       "    <tr>\n",
       "      <th>max</th>\n",
       "      <td>540.000000</td>\n",
       "      <td>359.400000</td>\n",
       "      <td>200.100000</td>\n",
       "      <td>247.000000</td>\n",
       "      <td>32.200000</td>\n",
       "      <td>1145.000000</td>\n",
       "      <td>992.600000</td>\n",
       "      <td>365.000000</td>\n",
       "      <td>82.600000</td>\n",
       "    </tr>\n",
       "  </tbody>\n",
       "</table>\n",
       "</div>"
      ],
      "text/plain": [
       "            Cement  Blast Furnace Slag      Fly Ash        Water  \\\n",
       "count  1030.000000         1030.000000  1030.000000  1030.000000   \n",
       "mean    281.167864           73.895825    54.188350   181.567282   \n",
       "std     104.506364           86.279342    63.997004    21.354219   \n",
       "min     102.000000            0.000000     0.000000   121.800000   \n",
       "25%     192.375000            0.000000     0.000000   164.900000   \n",
       "50%     272.900000           22.000000     0.000000   185.000000   \n",
       "75%     350.000000          142.950000   118.300000   192.000000   \n",
       "max     540.000000          359.400000   200.100000   247.000000   \n",
       "\n",
       "       Superplasticizer  Coarse Aggregate  Fine Aggregate          Age  \\\n",
       "count       1030.000000       1030.000000     1030.000000  1030.000000   \n",
       "mean           6.204660        972.918932      773.580485    45.662136   \n",
       "std            5.973841         77.753954       80.175980    63.169912   \n",
       "min            0.000000        801.000000      594.000000     1.000000   \n",
       "25%            0.000000        932.000000      730.950000     7.000000   \n",
       "50%            6.400000        968.000000      779.500000    28.000000   \n",
       "75%           10.200000       1029.400000      824.000000    56.000000   \n",
       "max           32.200000       1145.000000      992.600000   365.000000   \n",
       "\n",
       "          Strength  \n",
       "count  1030.000000  \n",
       "mean     35.817961  \n",
       "std      16.705742  \n",
       "min       2.330000  \n",
       "25%      23.710000  \n",
       "50%      34.445000  \n",
       "75%      46.135000  \n",
       "max      82.600000  "
      ]
     },
     "execution_count": 3,
     "metadata": {},
     "output_type": "execute_result"
    }
   ],
   "source": [
    "concrete_data.describe()"
   ]
  },
  {
   "cell_type": "code",
   "execution_count": 4,
   "metadata": {},
   "outputs": [
    {
     "data": {
      "text/plain": [
       "Cement                0\n",
       "Blast Furnace Slag    0\n",
       "Fly Ash               0\n",
       "Water                 0\n",
       "Superplasticizer      0\n",
       "Coarse Aggregate      0\n",
       "Fine Aggregate        0\n",
       "Age                   0\n",
       "Strength              0\n",
       "dtype: int64"
      ]
     },
     "execution_count": 4,
     "metadata": {},
     "output_type": "execute_result"
    }
   ],
   "source": [
    "concrete_data.isnull().sum()"
   ]
  },
  {
   "cell_type": "markdown",
   "metadata": {},
   "source": [
    "The data looks very clean and is ready to be used to build our model."
   ]
  },
  {
   "cell_type": "markdown",
   "metadata": {},
   "source": [
    "#### Split data into predictors and target\n",
    "The target variable in this problem is the concrete sample strength. Therefore, our predictors will be all the other columns."
   ]
  },
  {
   "cell_type": "code",
   "execution_count": 5,
   "metadata": {},
   "outputs": [
    {
     "data": {
      "text/plain": [
       "0    79.99\n",
       "1    61.89\n",
       "2    40.27\n",
       "3    41.05\n",
       "4    44.30\n",
       "Name: Strength, dtype: float64"
      ]
     },
     "execution_count": 5,
     "metadata": {},
     "output_type": "execute_result"
    }
   ],
   "source": [
    "concrete_data_columns = concrete_data.columns\n",
    "\n",
    "predictors = concrete_data[concrete_data_columns[concrete_data_columns != 'Strength']] # all columns except Strength\n",
    "target = concrete_data['Strength'] # Strength column\n",
    "target.head()"
   ]
  },
  {
   "cell_type": "code",
   "execution_count": 6,
   "metadata": {},
   "outputs": [
    {
     "data": {
      "text/plain": [
       "8"
      ]
     },
     "execution_count": 6,
     "metadata": {},
     "output_type": "execute_result"
    }
   ],
   "source": [
    "n_cols = predictors.shape[1] # number of predictors\n",
    "n_cols"
   ]
  },
  {
   "cell_type": "markdown",
   "metadata": {},
   "source": [
    "# A. Baseline Neural Network\n",
    "Let's define a function that defines our regression model for us so that we can conveniently call it to create our model."
   ]
  },
  {
   "cell_type": "code",
   "execution_count": 7,
   "metadata": {},
   "outputs": [
    {
     "name": "stderr",
     "output_type": "stream",
     "text": [
      "Using TensorFlow backend.\n"
     ]
    }
   ],
   "source": [
    "import keras\n",
    "from keras.models import Sequential\n",
    "from keras.layers import Dense"
   ]
  },
  {
   "cell_type": "markdown",
   "metadata": {},
   "source": [
    "The regression model will have one hidden layer of 10 nodes, and a ReLU activation function. The 'adam' optimizer is used and the 'mean squared error' is used as the loss function."
   ]
  },
  {
   "cell_type": "code",
   "execution_count": 33,
   "metadata": {},
   "outputs": [],
   "source": [
    "def regression_model():\n",
    "    # create model\n",
    "    model = Sequential()\n",
    "    model.add(Dense(10, activation='relu', input_shape=(n_cols,)))\n",
    "    model.add(Dense(1))\n",
    "    \n",
    "    # compile model\n",
    "    model.compile(optimizer='adam', loss='mean_squared_error')\n",
    "    return model"
   ]
  },
  {
   "cell_type": "markdown",
   "metadata": {},
   "source": [
    "### Train and Test the Network\n",
    "Let's call the function now to create our model. Importing scikit-learn in order to randomly split the data into a training and test sets"
   ]
  },
  {
   "cell_type": "code",
   "execution_count": 34,
   "metadata": {},
   "outputs": [],
   "source": [
    "from sklearn.model_selection import train_test_split\n",
    "\n",
    "#Splitting the data into a training and test sets by holding 30% of the data for testing\n",
    "X_train, X_test, y_train, y_test = train_test_split(predictors, target, test_size=0.3, random_state=42)"
   ]
  },
  {
   "cell_type": "code",
   "execution_count": 35,
   "metadata": {},
   "outputs": [],
   "source": [
    "# build the model\n",
    "model = regression_model()"
   ]
  },
  {
   "cell_type": "markdown",
   "metadata": {},
   "source": [
    "Next, we will train and test the model at the same time using the *fit* method. We will train the model for 50 epochs."
   ]
  },
  {
   "cell_type": "code",
   "execution_count": 36,
   "metadata": {},
   "outputs": [
    {
     "name": "stdout",
     "output_type": "stream",
     "text": [
      "Epoch 1/50\n",
      "721/721 [==============================] - 0s 141us/step - loss: 42110.7442\n",
      "Epoch 2/50\n",
      "721/721 [==============================] - 0s 39us/step - loss: 9084.1689\n",
      "Epoch 3/50\n",
      "721/721 [==============================] - 0s 37us/step - loss: 5846.7455\n",
      "Epoch 4/50\n",
      "721/721 [==============================] - 0s 42us/step - loss: 5303.0092\n",
      "Epoch 5/50\n",
      "721/721 [==============================] - 0s 47us/step - loss: 4727.7239\n",
      "Epoch 6/50\n",
      "721/721 [==============================] - 0s 47us/step - loss: 4196.6743\n",
      "Epoch 7/50\n",
      "721/721 [==============================] - 0s 44us/step - loss: 3691.2566\n",
      "Epoch 8/50\n",
      "721/721 [==============================] - 0s 43us/step - loss: 3211.1177\n",
      "Epoch 9/50\n",
      "721/721 [==============================] - 0s 46us/step - loss: 2782.4639\n",
      "Epoch 10/50\n",
      "721/721 [==============================] - 0s 47us/step - loss: 2400.0857\n",
      "Epoch 11/50\n",
      "721/721 [==============================] - 0s 41us/step - loss: 2073.8766\n",
      "Epoch 12/50\n",
      "721/721 [==============================] - 0s 47us/step - loss: 1812.7687\n",
      "Epoch 13/50\n",
      "721/721 [==============================] - 0s 48us/step - loss: 1592.9187\n",
      "Epoch 14/50\n",
      "721/721 [==============================] - 0s 43us/step - loss: 1410.1830\n",
      "Epoch 15/50\n",
      "721/721 [==============================] - 0s 43us/step - loss: 1254.5964\n",
      "Epoch 16/50\n",
      "721/721 [==============================] - 0s 39us/step - loss: 1112.5129\n",
      "Epoch 17/50\n",
      "721/721 [==============================] - 0s 40us/step - loss: 993.1354\n",
      "Epoch 18/50\n",
      "721/721 [==============================] - 0s 49us/step - loss: 887.7923\n",
      "Epoch 19/50\n",
      "721/721 [==============================] - 0s 44us/step - loss: 795.8470\n",
      "Epoch 20/50\n",
      "721/721 [==============================] - 0s 44us/step - loss: 717.2158\n",
      "Epoch 21/50\n",
      "721/721 [==============================] - 0s 46us/step - loss: 644.7474\n",
      "Epoch 22/50\n",
      "721/721 [==============================] - 0s 48us/step - loss: 579.9515\n",
      "Epoch 23/50\n",
      "721/721 [==============================] - 0s 48us/step - loss: 525.4806\n",
      "Epoch 24/50\n",
      "721/721 [==============================] - 0s 41us/step - loss: 480.9343\n",
      "Epoch 25/50\n",
      "721/721 [==============================] - 0s 42us/step - loss: 434.9611\n",
      "Epoch 26/50\n",
      "721/721 [==============================] - 0s 40us/step - loss: 395.7440\n",
      "Epoch 27/50\n",
      "721/721 [==============================] - 0s 41us/step - loss: 364.4035\n",
      "Epoch 28/50\n",
      "721/721 [==============================] - 0s 37us/step - loss: 337.8279\n",
      "Epoch 29/50\n",
      "721/721 [==============================] - 0s 55us/step - loss: 310.4785\n",
      "Epoch 30/50\n",
      "721/721 [==============================] - 0s 39us/step - loss: 287.0436\n",
      "Epoch 31/50\n",
      "721/721 [==============================] - 0s 43us/step - loss: 269.0347\n",
      "Epoch 32/50\n",
      "721/721 [==============================] - 0s 37us/step - loss: 249.3626\n",
      "Epoch 33/50\n",
      "721/721 [==============================] - 0s 41us/step - loss: 232.8731\n",
      "Epoch 34/50\n",
      "721/721 [==============================] - 0s 40us/step - loss: 218.9038\n",
      "Epoch 35/50\n",
      "721/721 [==============================] - 0s 39us/step - loss: 208.2075\n",
      "Epoch 36/50\n",
      "721/721 [==============================] - 0s 44us/step - loss: 197.4624\n",
      "Epoch 37/50\n",
      "721/721 [==============================] - 0s 33us/step - loss: 188.4308\n",
      "Epoch 38/50\n",
      "721/721 [==============================] - 0s 37us/step - loss: 178.4218\n",
      "Epoch 39/50\n",
      "721/721 [==============================] - 0s 37us/step - loss: 170.6993\n",
      "Epoch 40/50\n",
      "721/721 [==============================] - 0s 40us/step - loss: 166.5080\n",
      "Epoch 41/50\n",
      "721/721 [==============================] - ETA: 0s - loss: 114.599 - 0s 48us/step - loss: 159.2331\n",
      "Epoch 42/50\n",
      "721/721 [==============================] - 0s 33us/step - loss: 155.4459\n",
      "Epoch 43/50\n",
      "721/721 [==============================] - 0s 41us/step - loss: 150.6083\n",
      "Epoch 44/50\n",
      "721/721 [==============================] - 0s 42us/step - loss: 147.3411\n",
      "Epoch 45/50\n",
      "721/721 [==============================] - 0s 41us/step - loss: 143.2779\n",
      "Epoch 46/50\n",
      "721/721 [==============================] - 0s 34us/step - loss: 140.5028\n",
      "Epoch 47/50\n",
      "721/721 [==============================] - 0s 41us/step - loss: 137.5430\n",
      "Epoch 48/50\n",
      "721/721 [==============================] - 0s 39us/step - loss: 135.7083\n",
      "Epoch 49/50\n",
      "721/721 [==============================] - 0s 40us/step - loss: 133.9953\n",
      "Epoch 50/50\n",
      "721/721 [==============================] - 0s 46us/step - loss: 131.9406\n"
     ]
    },
    {
     "data": {
      "text/plain": [
       "<keras.callbacks.callbacks.History at 0x14f7fab3f08>"
      ]
     },
     "execution_count": 36,
     "metadata": {},
     "output_type": "execute_result"
    }
   ],
   "source": [
    "# fit the model using the built-in Keras fit function\n",
    "model.fit(X_train, y_train, epochs=50, verbose=1)"
   ]
  },
  {
   "cell_type": "markdown",
   "metadata": {},
   "source": [
    "Next, we need to evaluate the model on the test data."
   ]
  },
  {
   "cell_type": "code",
   "execution_count": 37,
   "metadata": {},
   "outputs": [
    {
     "name": "stdout",
     "output_type": "stream",
     "text": [
      "309/309 [==============================] - 0s 180us/step\n"
     ]
    },
    {
     "data": {
      "text/plain": [
       "124.70854300588466"
      ]
     },
     "execution_count": 37,
     "metadata": {},
     "output_type": "execute_result"
    }
   ],
   "source": [
    "loss_val = model.evaluate(X_test, y_test)\n",
    "y_pred = model.predict(X_test)\n",
    "loss_val"
   ]
  },
  {
   "cell_type": "markdown",
   "metadata": {},
   "source": [
    "Now, we compute the mean squared error between the predicted concrete strength and the actual concrete strength.\n",
    "\n",
    "Let's import the mean_squared_error function from Scikit-learn."
   ]
  },
  {
   "cell_type": "code",
   "execution_count": 38,
   "metadata": {},
   "outputs": [
    {
     "name": "stdout",
     "output_type": "stream",
     "text": [
      "124.70852710271917 0.0\n"
     ]
    }
   ],
   "source": [
    "from sklearn.metrics import mean_squared_error\n",
    "\n",
    "mean_square_error = mean_squared_error(y_test, y_pred)\n",
    "mean = np.mean(mean_square_error)\n",
    "standard_deviation = np.std(mean_square_error)\n",
    "print(mean, standard_deviation)"
   ]
  },
  {
   "cell_type": "markdown",
   "metadata": {},
   "source": [
    "Creating a list of 50 mean squared errors to report the mean and the standard deviation of the mean squared errors."
   ]
  },
  {
   "cell_type": "code",
   "execution_count": 39,
   "metadata": {},
   "outputs": [
    {
     "name": "stdout",
     "output_type": "stream",
     "text": [
      "MSE 1: 93.72215736413851\n",
      "MSE 2: 119.77520905034828\n",
      "MSE 3: 115.06454912204187\n",
      "MSE 4: 123.24235734661806\n",
      "MSE 5: 122.51923819730197\n",
      "MSE 6: 108.85042858432412\n",
      "MSE 7: 133.78014025641878\n",
      "MSE 8: 98.74063241211728\n",
      "MSE 9: 130.13444741258343\n",
      "MSE 10: 110.2504591957265\n",
      "MSE 11: 106.87584822077581\n",
      "MSE 12: 101.72823612743983\n",
      "MSE 13: 117.48222190585336\n",
      "MSE 14: 115.84360180703567\n",
      "MSE 15: 109.42565019231013\n",
      "MSE 16: 106.54830542505752\n",
      "MSE 17: 109.85340202356234\n",
      "MSE 18: 95.46041724442664\n",
      "MSE 19: 95.13645241252813\n",
      "MSE 20: 113.96541988039479\n",
      "MSE 21: 107.87222625831184\n",
      "MSE 22: 104.10498859195647\n",
      "MSE 23: 108.07317715246701\n",
      "MSE 24: 103.69747660615297\n",
      "MSE 25: 129.71703247267837\n",
      "MSE 26: 117.16039086005449\n",
      "MSE 27: 120.7952090760265\n",
      "MSE 28: 112.21814345078947\n",
      "MSE 29: 109.34347852688391\n",
      "MSE 30: 118.15906255530693\n",
      "MSE 31: 131.64821234644424\n",
      "MSE 32: 118.67370533866018\n",
      "MSE 33: 102.13411823754171\n",
      "MSE 34: 116.58001689231897\n",
      "MSE 35: 114.86474525426969\n",
      "MSE 36: 140.55356052238193\n",
      "MSE 37: 123.19497423881852\n",
      "MSE 38: 125.37858334636996\n",
      "MSE 39: 107.96443084914321\n",
      "MSE 40: 121.6139390075091\n",
      "MSE 41: 117.47430449550592\n",
      "MSE 42: 107.45087825441823\n",
      "MSE 43: 75.34852439608774\n",
      "MSE 44: 74.3145699609059\n",
      "MSE 45: 73.38799676000107\n",
      "MSE 46: 77.35954578486076\n",
      "MSE 47: 71.85777982693274\n",
      "MSE 48: 63.762606105372356\n",
      "MSE 49: 76.69164263777748\n",
      "MSE 50: 58.499058621600994\n",
      "\n",
      "\n",
      "Herein is the mean and standard deviation of 50 mean squared errors without normalized data. \n",
      "Number of epochs = 50\n",
      "\n",
      "Mean: 107.16587009022496\n",
      "Standard Deviation: 18.551708628963116\n"
     ]
    }
   ],
   "source": [
    "total_mean_squared_errors = 50\n",
    "epochs = 50\n",
    "mean_squared_errors = []\n",
    "for i in range(0, total_mean_squared_errors):\n",
    "    X_train, X_test, y_train, y_test = train_test_split(predictors, target, test_size=0.3, random_state=i)\n",
    "    model.fit(X_train, y_train, epochs=epochs, verbose=0)\n",
    "    MSE = model.evaluate(X_test, y_test, verbose=0)\n",
    "    print(\"MSE \"+str(i+1)+\": \"+str(MSE))\n",
    "    y_pred = model.predict(X_test)\n",
    "    mean_square_error = mean_squared_error(y_test, y_pred)\n",
    "    mean_squared_errors.append(mean_square_error)\n",
    "\n",
    "mean_squared_errors = np.array(mean_squared_errors)\n",
    "mean = np.mean(mean_squared_errors)\n",
    "standard_deviation = np.std(mean_squared_errors)\n",
    "\n",
    "print('\\n')\n",
    "print(\"Herein is the mean and standard deviation of \" +str(total_mean_squared_errors) + \" mean squared errors without normalized data. \\nNumber of epochs = \" +str(epochs) + \"\\n\")\n",
    "print(\"Mean: \"+str(mean))\n",
    "print(\"Standard Deviation: \"+str(standard_deviation))"
   ]
  },
  {
   "cell_type": "markdown",
   "metadata": {},
   "source": [
    "# B. Normalize the data"
   ]
  },
  {
   "cell_type": "code",
   "execution_count": 15,
   "metadata": {},
   "outputs": [],
   "source": [
    "predictors_norm = (predictors - predictors.mean()) / predictors.std()\n",
    "predictors_norm.head()\n",
    "n_cols = predictors_norm.shape[1] # number of predictors"
   ]
  },
  {
   "cell_type": "markdown",
   "metadata": {},
   "source": [
    "### Train and Test the Network\n",
    "Let's call the function now to create our model. Importing scikit-learn in order to randomly split the data into a training and test sets"
   ]
  },
  {
   "cell_type": "code",
   "execution_count": 16,
   "metadata": {},
   "outputs": [],
   "source": [
    "X_train, X_test, y_train, y_test = train_test_split(predictors_norm, target, test_size=0.3, random_state=42)"
   ]
  },
  {
   "cell_type": "code",
   "execution_count": 17,
   "metadata": {},
   "outputs": [
    {
     "name": "stdout",
     "output_type": "stream",
     "text": [
      "Epoch 1/50\n",
      "721/721 [==============================] - 0s 43us/step - loss: 1641.4474\n",
      "Epoch 2/50\n",
      "721/721 [==============================] - 0s 39us/step - loss: 1600.4436\n",
      "Epoch 3/50\n",
      "721/721 [==============================] - 0s 46us/step - loss: 1566.2529\n",
      "Epoch 4/50\n",
      "721/721 [==============================] - 0s 47us/step - loss: 1531.7547\n",
      "Epoch 5/50\n",
      "721/721 [==============================] - 0s 47us/step - loss: 1495.8367\n",
      "Epoch 6/50\n",
      "721/721 [==============================] - 0s 54us/step - loss: 1458.5488\n",
      "Epoch 7/50\n",
      "721/721 [==============================] - 0s 45us/step - loss: 1418.4269\n",
      "Epoch 8/50\n",
      "721/721 [==============================] - 0s 50us/step - loss: 1378.1879\n",
      "Epoch 9/50\n",
      "721/721 [==============================] - 0s 42us/step - loss: 1335.7395\n",
      "Epoch 10/50\n",
      "721/721 [==============================] - 0s 41us/step - loss: 1292.5405\n",
      "Epoch 11/50\n",
      "721/721 [==============================] - 0s 44us/step - loss: 1248.2411\n",
      "Epoch 12/50\n",
      "721/721 [==============================] - 0s 44us/step - loss: 1202.8266\n",
      "Epoch 13/50\n",
      "721/721 [==============================] - 0s 53us/step - loss: 1156.6356\n",
      "Epoch 14/50\n",
      "721/721 [==============================] - 0s 40us/step - loss: 1110.1665\n",
      "Epoch 15/50\n",
      "721/721 [==============================] - 0s 44us/step - loss: 1064.2509\n",
      "Epoch 16/50\n",
      "721/721 [==============================] - 0s 44us/step - loss: 1018.7570\n",
      "Epoch 17/50\n",
      "721/721 [==============================] - 0s 38us/step - loss: 974.3227\n",
      "Epoch 18/50\n",
      "721/721 [==============================] - 0s 42us/step - loss: 931.7240\n",
      "Epoch 19/50\n",
      "721/721 [==============================] - 0s 49us/step - loss: 889.3934\n",
      "Epoch 20/50\n",
      "721/721 [==============================] - 0s 46us/step - loss: 849.7531\n",
      "Epoch 21/50\n",
      "721/721 [==============================] - 0s 40us/step - loss: 811.2404\n",
      "Epoch 22/50\n",
      "721/721 [==============================] - 0s 44us/step - loss: 774.0802\n",
      "Epoch 23/50\n",
      "721/721 [==============================] - 0s 43us/step - loss: 739.3507\n",
      "Epoch 24/50\n",
      "721/721 [==============================] - 0s 44us/step - loss: 705.6062\n",
      "Epoch 25/50\n",
      "721/721 [==============================] - 0s 41us/step - loss: 674.1787\n",
      "Epoch 26/50\n",
      "721/721 [==============================] - 0s 43us/step - loss: 644.0264\n",
      "Epoch 27/50\n",
      "721/721 [==============================] - 0s 46us/step - loss: 616.0767\n",
      "Epoch 28/50\n",
      "721/721 [==============================] - 0s 47us/step - loss: 589.8585\n",
      "Epoch 29/50\n",
      "721/721 [==============================] - 0s 47us/step - loss: 564.4567\n",
      "Epoch 30/50\n",
      "721/721 [==============================] - 0s 50us/step - loss: 540.9889\n",
      "Epoch 31/50\n",
      "721/721 [==============================] - 0s 47us/step - loss: 518.9727\n",
      "Epoch 32/50\n",
      "721/721 [==============================] - 0s 44us/step - loss: 498.4740\n",
      "Epoch 33/50\n",
      "721/721 [==============================] - 0s 47us/step - loss: 479.3088\n",
      "Epoch 34/50\n",
      "721/721 [==============================] - 0s 47us/step - loss: 461.4181\n",
      "Epoch 35/50\n",
      "721/721 [==============================] - 0s 50us/step - loss: 444.8470\n",
      "Epoch 36/50\n",
      "721/721 [==============================] - 0s 48us/step - loss: 429.3020\n",
      "Epoch 37/50\n",
      "721/721 [==============================] - 0s 47us/step - loss: 414.7956\n",
      "Epoch 38/50\n",
      "721/721 [==============================] - 0s 51us/step - loss: 401.3793\n",
      "Epoch 39/50\n",
      "721/721 [==============================] - 0s 40us/step - loss: 388.8333\n",
      "Epoch 40/50\n",
      "721/721 [==============================] - 0s 48us/step - loss: 377.0179\n",
      "Epoch 41/50\n",
      "721/721 [==============================] - 0s 42us/step - loss: 366.1317\n",
      "Epoch 42/50\n",
      "721/721 [==============================] - 0s 43us/step - loss: 356.3797\n",
      "Epoch 43/50\n",
      "721/721 [==============================] - 0s 40us/step - loss: 346.8562\n",
      "Epoch 44/50\n",
      "721/721 [==============================] - 0s 44us/step - loss: 338.1987\n",
      "Epoch 45/50\n",
      "721/721 [==============================] - 0s 42us/step - loss: 330.0040\n",
      "Epoch 46/50\n",
      "721/721 [==============================] - 0s 45us/step - loss: 322.3501\n",
      "Epoch 47/50\n",
      "721/721 [==============================] - 0s 44us/step - loss: 315.4054\n",
      "Epoch 48/50\n",
      "721/721 [==============================] - 0s 44us/step - loss: 308.8013\n",
      "Epoch 49/50\n",
      "721/721 [==============================] - 0s 47us/step - loss: 302.5577\n",
      "Epoch 50/50\n",
      "721/721 [==============================] - 0s 46us/step - loss: 296.6539\n"
     ]
    },
    {
     "data": {
      "text/plain": [
       "<keras.callbacks.callbacks.History at 0x14f7889c948>"
      ]
     },
     "execution_count": 17,
     "metadata": {},
     "output_type": "execute_result"
    }
   ],
   "source": [
    "model.fit(X_train, y_train, epochs=50, verbose=1)"
   ]
  },
  {
   "cell_type": "markdown",
   "metadata": {},
   "source": [
    "Next, we need to evaluate the model on the test data."
   ]
  },
  {
   "cell_type": "code",
   "execution_count": 18,
   "metadata": {},
   "outputs": [
    {
     "name": "stdout",
     "output_type": "stream",
     "text": [
      "309/309 [==============================] - 0s 29us/step\n"
     ]
    },
    {
     "data": {
      "text/plain": [
       "296.69723016930243"
      ]
     },
     "execution_count": 18,
     "metadata": {},
     "output_type": "execute_result"
    }
   ],
   "source": [
    "loss_val = model.evaluate(X_test, y_test)\n",
    "y_pred = model.predict(X_test)\n",
    "loss_val"
   ]
  },
  {
   "cell_type": "markdown",
   "metadata": {},
   "source": [
    "Now, we compute the mean squared error between the predicted concrete strength and the actual concrete strength."
   ]
  },
  {
   "cell_type": "code",
   "execution_count": 19,
   "metadata": {},
   "outputs": [
    {
     "name": "stdout",
     "output_type": "stream",
     "text": [
      "296.69723382110055 0.0\n"
     ]
    }
   ],
   "source": [
    "mean_square_error = mean_squared_error(y_test, y_pred)\n",
    "mean = np.mean(mean_square_error)\n",
    "standard_deviation = np.std(mean_square_error)\n",
    "print(mean, standard_deviation)"
   ]
  },
  {
   "cell_type": "markdown",
   "metadata": {},
   "source": [
    "Creating a list of 50 mean squared errors to report the mean and the standard deviation of the mean squared errors."
   ]
  },
  {
   "cell_type": "code",
   "execution_count": 20,
   "metadata": {},
   "outputs": [
    {
     "name": "stdout",
     "output_type": "stream",
     "text": [
      "MSE 1: 147.06541447809212\n",
      "MSE 2: 127.79589384504892\n",
      "MSE 3: 87.87909784903418\n",
      "MSE 4: 82.39735889126182\n",
      "MSE 5: 77.38637690868192\n",
      "MSE 6: 73.48410173681562\n",
      "MSE 7: 69.73554323560597\n",
      "MSE 8: 48.51257690874118\n",
      "MSE 9: 48.83147613130341\n",
      "MSE 10: 48.4530081640941\n",
      "MSE 11: 42.90127640017414\n",
      "MSE 12: 40.83138068979998\n",
      "MSE 13: 48.319239662688915\n",
      "MSE 14: 48.255879510182005\n",
      "MSE 15: 37.81736849195363\n",
      "MSE 16: 35.82292818483025\n",
      "MSE 17: 38.52632178766442\n",
      "MSE 18: 37.383743360204605\n",
      "MSE 19: 36.53798945899148\n",
      "MSE 20: 37.20282977452942\n",
      "MSE 21: 33.390151138058755\n",
      "MSE 22: 37.54053449167789\n",
      "MSE 23: 29.980434343652817\n",
      "MSE 24: 33.26540475987308\n",
      "MSE 25: 36.24604085656817\n",
      "MSE 26: 36.27933393558638\n",
      "MSE 27: 31.328015299676693\n",
      "MSE 28: 30.084678223989542\n",
      "MSE 29: 37.685283870758745\n",
      "MSE 30: 33.64626071522537\n",
      "MSE 31: 32.12910296616045\n",
      "MSE 32: 30.894642450277086\n",
      "MSE 33: 31.117301150818857\n",
      "MSE 34: 33.24824667131245\n",
      "MSE 35: 32.55411062888729\n",
      "MSE 36: 38.54751278281598\n",
      "MSE 37: 29.90651423259846\n",
      "MSE 38: 34.87061969053398\n",
      "MSE 39: 33.68984449565603\n",
      "MSE 40: 27.83888633505812\n",
      "MSE 41: 36.209097075230865\n",
      "MSE 42: 29.041485425338003\n",
      "MSE 43: 32.561869247831574\n",
      "MSE 44: 38.07196638730738\n",
      "MSE 45: 35.15469192455502\n",
      "MSE 46: 32.270998180105465\n",
      "MSE 47: 31.320161319473414\n",
      "MSE 48: 33.98308417557899\n",
      "MSE 49: 33.567440088512825\n",
      "MSE 50: 32.35263540521023\n",
      "\n",
      "\n",
      "Herein is the mean and standard deviation of 50 mean squared errors with normalized data. \n",
      "Number of epochs = 50\n",
      "\n",
      "Mean: 44.278322981826726\n",
      "Standard Deviation: 23.555045157821144\n"
     ]
    }
   ],
   "source": [
    "total_mean_squared_errors = 50\n",
    "epochs = 50\n",
    "mean_squared_errors = []\n",
    "for i in range(0, total_mean_squared_errors):\n",
    "    X_train, X_test, y_train, y_test = train_test_split(predictors_norm, target, test_size=0.3, random_state=i)\n",
    "    model.fit(X_train, y_train, epochs=epochs, verbose=0)\n",
    "    MSE = model.evaluate(X_test, y_test, verbose=0)\n",
    "    print(\"MSE \"+str(i+1)+\": \"+str(MSE))\n",
    "    y_pred = model.predict(X_test)\n",
    "    mean_square_error = mean_squared_error(y_test, y_pred)\n",
    "    mean_squared_errors.append(mean_square_error)\n",
    "\n",
    "mean_squared_errors = np.array(mean_squared_errors)\n",
    "mean = np.mean(mean_squared_errors)\n",
    "standard_deviation = np.std(mean_squared_errors)\n",
    "\n",
    "print('\\n')\n",
    "print(\"Herein is the mean and standard deviation of \" +str(total_mean_squared_errors) + \" mean squared errors with normalized data. \\nNumber of epochs = \" +str(epochs) + \"\\n\")\n",
    "print(\"Mean: \"+str(mean))\n",
    "print(\"Standard Deviation: \"+str(standard_deviation))"
   ]
  },
  {
   "cell_type": "markdown",
   "metadata": {},
   "source": [
    "### We see that the mean in Step B is lesser than the mean of Step A."
   ]
  },
  {
   "cell_type": "markdown",
   "metadata": {},
   "source": [
    "# C. Increase the number of epochs\n",
    "Repeating Part B but use 100 epochs this time for training."
   ]
  },
  {
   "cell_type": "markdown",
   "metadata": {},
   "source": [
    "### Train and Test the Network\n",
    "Let's call the function now to create our model. Importing scikit-learn in order to randomly split the data into a training and test sets"
   ]
  },
  {
   "cell_type": "code",
   "execution_count": 21,
   "metadata": {},
   "outputs": [
    {
     "name": "stdout",
     "output_type": "stream",
     "text": [
      "Epoch 1/100\n",
      "721/721 [==============================] - 0s 43us/step - loss: 28.3989\n",
      "Epoch 2/100\n",
      "721/721 [==============================] - 0s 41us/step - loss: 28.4760\n",
      "Epoch 3/100\n",
      "721/721 [==============================] - 0s 38us/step - loss: 28.4952\n",
      "Epoch 4/100\n",
      "721/721 [==============================] - 0s 44us/step - loss: 28.4173\n",
      "Epoch 5/100\n",
      "721/721 [==============================] - 0s 42us/step - loss: 28.4045\n",
      "Epoch 6/100\n",
      "721/721 [==============================] - 0s 42us/step - loss: 28.4295\n",
      "Epoch 7/100\n",
      "721/721 [==============================] - 0s 43us/step - loss: 28.3927\n",
      "Epoch 8/100\n",
      "721/721 [==============================] - 0s 40us/step - loss: 28.3968\n",
      "Epoch 9/100\n",
      "721/721 [==============================] - 0s 42us/step - loss: 28.4307\n",
      "Epoch 10/100\n",
      "721/721 [==============================] - 0s 39us/step - loss: 28.3594\n",
      "Epoch 11/100\n",
      "721/721 [==============================] - 0s 43us/step - loss: 28.4380\n",
      "Epoch 12/100\n",
      "721/721 [==============================] - 0s 37us/step - loss: 28.4236\n",
      "Epoch 13/100\n",
      "721/721 [==============================] - 0s 43us/step - loss: 28.3568\n",
      "Epoch 14/100\n",
      "721/721 [==============================] - 0s 42us/step - loss: 28.3746\n",
      "Epoch 15/100\n",
      "721/721 [==============================] - 0s 43us/step - loss: 28.4051\n",
      "Epoch 16/100\n",
      "721/721 [==============================] - 0s 43us/step - loss: 28.4420\n",
      "Epoch 17/100\n",
      "721/721 [==============================] - 0s 44us/step - loss: 28.3899\n",
      "Epoch 18/100\n",
      "721/721 [==============================] - 0s 41us/step - loss: 28.3460\n",
      "Epoch 19/100\n",
      "721/721 [==============================] - 0s 38us/step - loss: 28.3842\n",
      "Epoch 20/100\n",
      "721/721 [==============================] - 0s 42us/step - loss: 28.3535\n",
      "Epoch 21/100\n",
      "721/721 [==============================] - 0s 47us/step - loss: 28.3134\n",
      "Epoch 22/100\n",
      "721/721 [==============================] - 0s 47us/step - loss: 28.3357\n",
      "Epoch 23/100\n",
      "721/721 [==============================] - 0s 38us/step - loss: 28.3794\n",
      "Epoch 24/100\n",
      "721/721 [==============================] - 0s 39us/step - loss: 28.3152\n",
      "Epoch 25/100\n",
      "721/721 [==============================] - 0s 44us/step - loss: 28.4036\n",
      "Epoch 26/100\n",
      "721/721 [==============================] - 0s 47us/step - loss: 28.3991\n",
      "Epoch 27/100\n",
      "721/721 [==============================] - 0s 42us/step - loss: 28.3290\n",
      "Epoch 28/100\n",
      "721/721 [==============================] - 0s 43us/step - loss: 28.3080\n",
      "Epoch 29/100\n",
      "721/721 [==============================] - 0s 41us/step - loss: 28.3126\n",
      "Epoch 30/100\n",
      "721/721 [==============================] - 0s 42us/step - loss: 28.3233\n",
      "Epoch 31/100\n",
      "721/721 [==============================] - 0s 41us/step - loss: 28.3073\n",
      "Epoch 32/100\n",
      "721/721 [==============================] - 0s 37us/step - loss: 28.3346\n",
      "Epoch 33/100\n",
      "721/721 [==============================] - 0s 44us/step - loss: 28.3452\n",
      "Epoch 34/100\n",
      "721/721 [==============================] - 0s 42us/step - loss: 28.2748\n",
      "Epoch 35/100\n",
      "721/721 [==============================] - 0s 50us/step - loss: 28.2908\n",
      "Epoch 36/100\n",
      "721/721 [==============================] - 0s 42us/step - loss: 28.3033\n",
      "Epoch 37/100\n",
      "721/721 [==============================] - 0s 41us/step - loss: 28.2976\n",
      "Epoch 38/100\n",
      "721/721 [==============================] - 0s 39us/step - loss: 28.2903\n",
      "Epoch 39/100\n",
      "721/721 [==============================] - 0s 40us/step - loss: 28.3122\n",
      "Epoch 40/100\n",
      "721/721 [==============================] - 0s 50us/step - loss: 28.2647\n",
      "Epoch 41/100\n",
      "721/721 [==============================] - 0s 38us/step - loss: 28.2656\n",
      "Epoch 42/100\n",
      "721/721 [==============================] - 0s 43us/step - loss: 28.2554\n",
      "Epoch 43/100\n",
      "721/721 [==============================] - 0s 41us/step - loss: 28.2465\n",
      "Epoch 44/100\n",
      "721/721 [==============================] - 0s 40us/step - loss: 28.2499\n",
      "Epoch 45/100\n",
      "721/721 [==============================] - 0s 39us/step - loss: 28.2944\n",
      "Epoch 46/100\n",
      "721/721 [==============================] - 0s 37us/step - loss: 28.2506\n",
      "Epoch 47/100\n",
      "721/721 [==============================] - 0s 42us/step - loss: 28.2983\n",
      "Epoch 48/100\n",
      "721/721 [==============================] - 0s 43us/step - loss: 28.2656\n",
      "Epoch 49/100\n",
      "721/721 [==============================] - 0s 43us/step - loss: 28.2830\n",
      "Epoch 50/100\n",
      "721/721 [==============================] - 0s 47us/step - loss: 28.2758\n",
      "Epoch 51/100\n",
      "721/721 [==============================] - 0s 44us/step - loss: 28.2290\n",
      "Epoch 52/100\n",
      "721/721 [==============================] - 0s 43us/step - loss: 28.2628\n",
      "Epoch 53/100\n",
      "721/721 [==============================] - 0s 44us/step - loss: 28.3299\n",
      "Epoch 54/100\n",
      "721/721 [==============================] - 0s 42us/step - loss: 28.2863\n",
      "Epoch 55/100\n",
      "721/721 [==============================] - 0s 39us/step - loss: 28.2914\n",
      "Epoch 56/100\n",
      "721/721 [==============================] - 0s 40us/step - loss: 28.2357\n",
      "Epoch 57/100\n",
      "721/721 [==============================] - 0s 37us/step - loss: 28.2352\n",
      "Epoch 58/100\n",
      "721/721 [==============================] - 0s 37us/step - loss: 28.1962\n",
      "Epoch 59/100\n",
      "721/721 [==============================] - 0s 44us/step - loss: 28.1930\n",
      "Epoch 60/100\n",
      "721/721 [==============================] - 0s 43us/step - loss: 28.2250\n",
      "Epoch 61/100\n",
      "721/721 [==============================] - 0s 36us/step - loss: 28.2443\n",
      "Epoch 62/100\n",
      "721/721 [==============================] - 0s 38us/step - loss: 28.2153\n",
      "Epoch 63/100\n",
      "721/721 [==============================] - 0s 38us/step - loss: 28.2261\n",
      "Epoch 64/100\n",
      "721/721 [==============================] - 0s 36us/step - loss: 28.2211\n",
      "Epoch 65/100\n",
      "721/721 [==============================] - 0s 38us/step - loss: 28.2534\n",
      "Epoch 66/100\n",
      "721/721 [==============================] - 0s 36us/step - loss: 28.2082\n",
      "Epoch 67/100\n",
      "721/721 [==============================] - 0s 42us/step - loss: 28.2138\n",
      "Epoch 68/100\n",
      "721/721 [==============================] - 0s 44us/step - loss: 28.2164\n",
      "Epoch 69/100\n",
      "721/721 [==============================] - 0s 41us/step - loss: 28.2183\n",
      "Epoch 70/100\n",
      "721/721 [==============================] - 0s 37us/step - loss: 28.1691\n",
      "Epoch 71/100\n",
      "721/721 [==============================] - 0s 41us/step - loss: 28.1725\n",
      "Epoch 72/100\n",
      "721/721 [==============================] - 0s 37us/step - loss: 28.2145\n",
      "Epoch 73/100\n",
      "721/721 [==============================] - 0s 34us/step - loss: 28.1723\n",
      "Epoch 74/100\n",
      "721/721 [==============================] - 0s 39us/step - loss: 28.1820\n",
      "Epoch 75/100\n",
      "721/721 [==============================] - 0s 39us/step - loss: 28.1633\n",
      "Epoch 76/100\n",
      "721/721 [==============================] - 0s 43us/step - loss: 28.2117\n",
      "Epoch 77/100\n",
      "721/721 [==============================] - 0s 41us/step - loss: 28.1469\n",
      "Epoch 78/100\n",
      "721/721 [==============================] - 0s 38us/step - loss: 28.1280\n",
      "Epoch 79/100\n",
      "721/721 [==============================] - 0s 37us/step - loss: 28.3247\n",
      "Epoch 80/100\n",
      "721/721 [==============================] - 0s 33us/step - loss: 28.1623\n",
      "Epoch 81/100\n",
      "721/721 [==============================] - 0s 33us/step - loss: 28.1266\n",
      "Epoch 82/100\n",
      "721/721 [==============================] - 0s 29us/step - loss: 28.1686\n",
      "Epoch 83/100\n",
      "721/721 [==============================] - 0s 39us/step - loss: 28.1384\n",
      "Epoch 84/100\n",
      "721/721 [==============================] - 0s 33us/step - loss: 28.1341\n",
      "Epoch 85/100\n",
      "721/721 [==============================] - 0s 33us/step - loss: 28.1594\n",
      "Epoch 86/100\n",
      "721/721 [==============================] - 0s 30us/step - loss: 28.1397\n",
      "Epoch 87/100\n",
      "721/721 [==============================] - 0s 32us/step - loss: 28.0930\n",
      "Epoch 88/100\n",
      "721/721 [==============================] - 0s 36us/step - loss: 28.1426\n",
      "Epoch 89/100\n",
      "721/721 [==============================] - 0s 35us/step - loss: 28.1016\n",
      "Epoch 90/100\n",
      "721/721 [==============================] - 0s 34us/step - loss: 28.1058\n",
      "Epoch 91/100\n",
      "721/721 [==============================] - 0s 35us/step - loss: 28.1044\n",
      "Epoch 92/100\n",
      "721/721 [==============================] - 0s 37us/step - loss: 28.0992\n",
      "Epoch 93/100\n",
      "721/721 [==============================] - 0s 31us/step - loss: 28.1084\n",
      "Epoch 94/100\n",
      "721/721 [==============================] - 0s 35us/step - loss: 28.1408\n",
      "Epoch 95/100\n",
      "721/721 [==============================] - 0s 35us/step - loss: 28.1560\n",
      "Epoch 96/100\n",
      "721/721 [==============================] - 0s 37us/step - loss: 28.1162\n",
      "Epoch 97/100\n"
     ]
    },
    {
     "name": "stdout",
     "output_type": "stream",
     "text": [
      "721/721 [==============================] - 0s 32us/step - loss: 28.0607\n",
      "Epoch 98/100\n",
      "721/721 [==============================] - 0s 38us/step - loss: 28.1058\n",
      "Epoch 99/100\n",
      "721/721 [==============================] - 0s 33us/step - loss: 28.0919\n",
      "Epoch 100/100\n",
      "721/721 [==============================] - 0s 32us/step - loss: 28.0393\n"
     ]
    },
    {
     "data": {
      "text/plain": [
       "<keras.callbacks.callbacks.History at 0x14f78894988>"
      ]
     },
     "execution_count": 21,
     "metadata": {},
     "output_type": "execute_result"
    }
   ],
   "source": [
    "model.fit(X_train, y_train, epochs=100, verbose=1)"
   ]
  },
  {
   "cell_type": "markdown",
   "metadata": {},
   "source": [
    "Next, we need to evaluate the model on the test data."
   ]
  },
  {
   "cell_type": "code",
   "execution_count": 22,
   "metadata": {},
   "outputs": [
    {
     "name": "stdout",
     "output_type": "stream",
     "text": [
      "309/309 [==============================] - 0s 26us/step\n"
     ]
    },
    {
     "data": {
      "text/plain": [
       "33.55373658485783"
      ]
     },
     "execution_count": 22,
     "metadata": {},
     "output_type": "execute_result"
    }
   ],
   "source": [
    "loss_val = model.evaluate(X_test, y_test)\n",
    "y_pred = model.predict(X_test)\n",
    "loss_val"
   ]
  },
  {
   "cell_type": "markdown",
   "metadata": {},
   "source": [
    "Now, we compute the mean squared error between the predicted concrete strength and the actual concrete strength."
   ]
  },
  {
   "cell_type": "code",
   "execution_count": 23,
   "metadata": {},
   "outputs": [
    {
     "name": "stdout",
     "output_type": "stream",
     "text": [
      "33.55373488654564 0.0\n"
     ]
    }
   ],
   "source": [
    "mean_square_error = mean_squared_error(y_test, y_pred)\n",
    "mean = np.mean(mean_square_error)\n",
    "standard_deviation = np.std(mean_square_error)\n",
    "print(mean, standard_deviation)"
   ]
  },
  {
   "cell_type": "markdown",
   "metadata": {},
   "source": [
    "Creating a list of 50 mean squared errors to report the mean and the standard deviation of the mean squared errors."
   ]
  },
  {
   "cell_type": "code",
   "execution_count": 24,
   "metadata": {},
   "outputs": [
    {
     "name": "stdout",
     "output_type": "stream",
     "text": [
      "MSE 1: 32.1973007473745\n",
      "MSE 2: 35.455000275547064\n",
      "MSE 3: 26.081790553713308\n",
      "MSE 4: 30.242432659112133\n",
      "MSE 5: 30.25621379617734\n",
      "MSE 6: 33.10248649621859\n",
      "MSE 7: 34.60612361870923\n",
      "MSE 8: 29.605429183318005\n",
      "MSE 9: 30.808645810124172\n",
      "MSE 10: 32.96847831701383\n",
      "MSE 11: 31.599708587992154\n",
      "MSE 12: 27.985727865719102\n",
      "MSE 13: 33.94846687810706\n",
      "MSE 14: 36.70049822909161\n",
      "MSE 15: 28.06329162375441\n",
      "MSE 16: 26.94378023240173\n",
      "MSE 17: 29.268135527576828\n",
      "MSE 18: 31.124168587348223\n",
      "MSE 19: 30.921901505356082\n",
      "MSE 20: 28.505434968324927\n",
      "MSE 21: 29.993937372003945\n",
      "MSE 22: 29.24036350065065\n",
      "MSE 23: 27.048372052634033\n",
      "MSE 24: 28.400051771244186\n",
      "MSE 25: 31.506168816081914\n",
      "MSE 26: 31.815420860611503\n",
      "MSE 27: 28.806089697532283\n",
      "MSE 28: 24.958782368879103\n",
      "MSE 29: 34.161597180906625\n",
      "MSE 30: 31.577035903930664\n",
      "MSE 31: 28.389841252546095\n",
      "MSE 32: 25.73035934596386\n",
      "MSE 33: 26.388080868520397\n",
      "MSE 34: 30.945640736799024\n",
      "MSE 35: 30.10694280334275\n",
      "MSE 36: 34.19090615429924\n",
      "MSE 37: 27.660108637269648\n",
      "MSE 38: 30.977793795391193\n",
      "MSE 39: 30.141069949251936\n",
      "MSE 40: 24.774704059736628\n",
      "MSE 41: 31.518858295428327\n",
      "MSE 42: 25.203668723985988\n",
      "MSE 43: 27.69958699791177\n",
      "MSE 44: 35.12730865725422\n",
      "MSE 45: 31.905975243034487\n",
      "MSE 46: 28.98413471110816\n",
      "MSE 47: 29.659063073809477\n",
      "MSE 48: 30.838134382920742\n",
      "MSE 49: 31.061145165205772\n",
      "MSE 50: 30.964749987457175\n",
      "\n",
      "\n",
      "Herein is the mean and standard deviation of 50 mean squared errors with normalized data. \n",
      "Number of epochs = 100\n",
      "\n",
      "Mean: 30.203217852292905\n",
      "Standard Deviation: 2.786116642694863\n"
     ]
    }
   ],
   "source": [
    "total_mean_squared_errors = 50\n",
    "epochs = 100\n",
    "mean_squared_errors = []\n",
    "for i in range(0, total_mean_squared_errors):\n",
    "    X_train, X_test, y_train, y_test = train_test_split(predictors_norm, target, test_size=0.3, random_state=i)\n",
    "    model.fit(X_train, y_train, epochs=epochs, verbose=0)\n",
    "    MSE = model.evaluate(X_test, y_test, verbose=0)\n",
    "    print(\"MSE \"+str(i+1)+\": \"+str(MSE))\n",
    "    y_pred = model.predict(X_test)\n",
    "    mean_square_error = mean_squared_error(y_test, y_pred)\n",
    "    mean_squared_errors.append(mean_square_error)\n",
    "\n",
    "mean_squared_errors = np.array(mean_squared_errors)\n",
    "mean = np.mean(mean_squared_errors)\n",
    "standard_deviation = np.std(mean_squared_errors)\n",
    "\n",
    "print('\\n')\n",
    "print(\"Herein is the mean and standard deviation of \" +str(total_mean_squared_errors) + \" mean squared errors with normalized data. \\nNumber of epochs = \" +str(epochs) + \"\\n\")\n",
    "print(\"Mean: \"+str(mean))\n",
    "print(\"Standard Deviation: \"+str(standard_deviation))"
   ]
  },
  {
   "cell_type": "markdown",
   "metadata": {},
   "source": [
    "### We see that the mean in Step C is lesser than the mean of Step B."
   ]
  },
  {
   "cell_type": "markdown",
   "metadata": {},
   "source": [
    "# D. Increase the number of hidden layers\n",
    "Repeating part B but using a neural network with 3 hidden layers, each of 10 nodes and ReLU activation function."
   ]
  },
  {
   "cell_type": "code",
   "execution_count": 25,
   "metadata": {},
   "outputs": [],
   "source": [
    "def regression_model2():\n",
    "    # create model\n",
    "    model = Sequential()\n",
    "    model.add(Dense(10, activation='relu', input_shape=(n_cols,)))\n",
    "    model.add(Dense(10, activation='relu'))\n",
    "    model.add(Dense(10, activation='relu'))\n",
    "    model.add(Dense(1))\n",
    "    \n",
    "    # compile model\n",
    "    model.compile(optimizer='adam', loss='mean_squared_error')\n",
    "    return model"
   ]
  },
  {
   "cell_type": "markdown",
   "metadata": {},
   "source": [
    "### Train and Test the Network\n",
    "Let's call the function now to create our model. Importing scikit-learn in order to randomly split the data into a training and test sets"
   ]
  },
  {
   "cell_type": "code",
   "execution_count": 26,
   "metadata": {},
   "outputs": [],
   "source": [
    "from sklearn.model_selection import train_test_split\n",
    "X_train, X_test, y_train, y_test = train_test_split(predictors_norm, target, test_size=0.3, random_state=42)"
   ]
  },
  {
   "cell_type": "code",
   "execution_count": 27,
   "metadata": {},
   "outputs": [],
   "source": [
    "# build the model\n",
    "model2 = regression_model2()"
   ]
  },
  {
   "cell_type": "code",
   "execution_count": 28,
   "metadata": {},
   "outputs": [
    {
     "name": "stdout",
     "output_type": "stream",
     "text": [
      "Epoch 1/50\n",
      "721/721 [==============================] - 0s 158us/step - loss: 1535.2431\n",
      "Epoch 2/50\n",
      "721/721 [==============================] - 0s 44us/step - loss: 1482.7345\n",
      "Epoch 3/50\n",
      "721/721 [==============================] - 0s 47us/step - loss: 1414.7360\n",
      "Epoch 4/50\n",
      "721/721 [==============================] - 0s 43us/step - loss: 1318.4525\n",
      "Epoch 5/50\n",
      "721/721 [==============================] - 0s 48us/step - loss: 1181.8122\n",
      "Epoch 6/50\n",
      "721/721 [==============================] - 0s 48us/step - loss: 1007.8773\n",
      "Epoch 7/50\n",
      "721/721 [==============================] - 0s 43us/step - loss: 811.2789\n",
      "Epoch 8/50\n",
      "721/721 [==============================] - 0s 47us/step - loss: 629.7163\n",
      "Epoch 9/50\n",
      "721/721 [==============================] - 0s 44us/step - loss: 488.0801\n",
      "Epoch 10/50\n",
      "721/721 [==============================] - 0s 43us/step - loss: 388.4209\n",
      "Epoch 11/50\n",
      "721/721 [==============================] - 0s 41us/step - loss: 326.4605\n",
      "Epoch 12/50\n",
      "721/721 [==============================] - 0s 39us/step - loss: 283.3966\n",
      "Epoch 13/50\n",
      "721/721 [==============================] - 0s 43us/step - loss: 253.4783\n",
      "Epoch 14/50\n",
      "721/721 [==============================] - 0s 41us/step - loss: 233.5838\n",
      "Epoch 15/50\n",
      "721/721 [==============================] - 0s 46us/step - loss: 218.6434\n",
      "Epoch 16/50\n",
      "721/721 [==============================] - 0s 44us/step - loss: 207.8890\n",
      "Epoch 17/50\n",
      "721/721 [==============================] - 0s 43us/step - loss: 199.1897\n",
      "Epoch 18/50\n",
      "721/721 [==============================] - 0s 40us/step - loss: 192.0130\n",
      "Epoch 19/50\n",
      "721/721 [==============================] - 0s 48us/step - loss: 186.5417\n",
      "Epoch 20/50\n",
      "721/721 [==============================] - 0s 39us/step - loss: 180.8522\n",
      "Epoch 21/50\n",
      "721/721 [==============================] - 0s 40us/step - loss: 176.3073\n",
      "Epoch 22/50\n",
      "721/721 [==============================] - 0s 45us/step - loss: 172.6505\n",
      "Epoch 23/50\n",
      "721/721 [==============================] - 0s 42us/step - loss: 168.9393\n",
      "Epoch 24/50\n",
      "721/721 [==============================] - 0s 42us/step - loss: 165.8074\n",
      "Epoch 25/50\n",
      "721/721 [==============================] - 0s 41us/step - loss: 162.0150\n",
      "Epoch 26/50\n",
      "721/721 [==============================] - 0s 50us/step - loss: 159.7671\n",
      "Epoch 27/50\n",
      "721/721 [==============================] - 0s 47us/step - loss: 156.9726\n",
      "Epoch 28/50\n",
      "721/721 [==============================] - 0s 48us/step - loss: 154.8942\n",
      "Epoch 29/50\n",
      "721/721 [==============================] - 0s 44us/step - loss: 152.8917\n",
      "Epoch 30/50\n",
      "721/721 [==============================] - 0s 40us/step - loss: 150.6419\n",
      "Epoch 31/50\n",
      "721/721 [==============================] - 0s 40us/step - loss: 148.1232\n",
      "Epoch 32/50\n",
      "721/721 [==============================] - 0s 41us/step - loss: 146.5932\n",
      "Epoch 33/50\n",
      "721/721 [==============================] - 0s 38us/step - loss: 144.4895\n",
      "Epoch 34/50\n",
      "721/721 [==============================] - 0s 44us/step - loss: 142.4764\n",
      "Epoch 35/50\n",
      "721/721 [==============================] - 0s 41us/step - loss: 140.8018\n",
      "Epoch 36/50\n",
      "721/721 [==============================] - 0s 41us/step - loss: 139.4537\n",
      "Epoch 37/50\n",
      "721/721 [==============================] - 0s 42us/step - loss: 137.5237\n",
      "Epoch 38/50\n",
      "721/721 [==============================] - 0s 44us/step - loss: 136.4536\n",
      "Epoch 39/50\n",
      "721/721 [==============================] - 0s 44us/step - loss: 134.6730\n",
      "Epoch 40/50\n",
      "721/721 [==============================] - 0s 41us/step - loss: 133.4223\n",
      "Epoch 41/50\n",
      "721/721 [==============================] - 0s 53us/step - loss: 131.9953\n",
      "Epoch 42/50\n",
      "721/721 [==============================] - 0s 57us/step - loss: 131.0272\n",
      "Epoch 43/50\n",
      "721/721 [==============================] - 0s 47us/step - loss: 129.4858\n",
      "Epoch 44/50\n",
      "721/721 [==============================] - 0s 44us/step - loss: 128.1594\n",
      "Epoch 45/50\n",
      "721/721 [==============================] - 0s 50us/step - loss: 127.0207\n",
      "Epoch 46/50\n",
      "721/721 [==============================] - 0s 43us/step - loss: 125.5098\n",
      "Epoch 47/50\n",
      "721/721 [==============================] - 0s 43us/step - loss: 124.7250\n",
      "Epoch 48/50\n",
      "721/721 [==============================] - 0s 43us/step - loss: 123.4036\n",
      "Epoch 49/50\n",
      "721/721 [==============================] - 0s 47us/step - loss: 122.2264\n",
      "Epoch 50/50\n",
      "721/721 [==============================] - 0s 41us/step - loss: 121.0467\n"
     ]
    },
    {
     "data": {
      "text/plain": [
       "<keras.callbacks.callbacks.History at 0x14f788f2f08>"
      ]
     },
     "execution_count": 28,
     "metadata": {},
     "output_type": "execute_result"
    }
   ],
   "source": [
    "model2.fit(X_train, y_train, epochs=50, verbose=1)"
   ]
  },
  {
   "cell_type": "markdown",
   "metadata": {},
   "source": [
    "Next, we need to evaluate the model on the test data."
   ]
  },
  {
   "cell_type": "code",
   "execution_count": 29,
   "metadata": {},
   "outputs": [
    {
     "name": "stdout",
     "output_type": "stream",
     "text": [
      "309/309 [==============================] - 0s 35us/step\n"
     ]
    },
    {
     "data": {
      "text/plain": [
       "25.637830524382853"
      ]
     },
     "execution_count": 29,
     "metadata": {},
     "output_type": "execute_result"
    }
   ],
   "source": [
    "loss_val = model.evaluate(X_test, y_test)\n",
    "y_pred = model.predict(X_test)\n",
    "loss_val"
   ]
  },
  {
   "cell_type": "markdown",
   "metadata": {},
   "source": [
    "Now, we compute the mean squared error between the predicted concrete strength and the actual concrete strength."
   ]
  },
  {
   "cell_type": "code",
   "execution_count": 30,
   "metadata": {},
   "outputs": [
    {
     "name": "stdout",
     "output_type": "stream",
     "text": [
      "25.637831173122994 0.0\n"
     ]
    }
   ],
   "source": [
    "mean_square_error = mean_squared_error(y_test, y_pred)\n",
    "mean = np.mean(mean_square_error)\n",
    "standard_deviation = np.std(mean_square_error)\n",
    "print(mean, standard_deviation)"
   ]
  },
  {
   "cell_type": "markdown",
   "metadata": {},
   "source": [
    "Creating a list of 50 mean squared errors to report the mean and the standard deviation of the mean squared errors."
   ]
  },
  {
   "cell_type": "code",
   "execution_count": 31,
   "metadata": {},
   "outputs": [
    {
     "name": "stdout",
     "output_type": "stream",
     "text": [
      "MSE 1: 28.548978527772775\n",
      "MSE 2: 33.430840254601534\n",
      "MSE 3: 24.36949998429678\n",
      "MSE 4: 27.3547257975853\n",
      "MSE 5: 27.244276194896514\n",
      "MSE 6: 31.78864911767657\n",
      "MSE 7: 32.72632874177112\n",
      "MSE 8: 27.609818190046884\n",
      "MSE 9: 29.72259511608136\n",
      "MSE 10: 28.612551179904383\n",
      "MSE 11: 29.379796722560254\n",
      "MSE 12: 27.224457503136694\n",
      "MSE 13: 31.64892359613215\n",
      "MSE 14: 33.19884695898754\n",
      "MSE 15: 27.10233917977046\n",
      "MSE 16: 24.844036670178657\n",
      "MSE 17: 27.05734380703528\n",
      "MSE 18: 28.74505141792174\n",
      "MSE 19: 29.042218118809572\n",
      "MSE 20: 26.60146336725229\n",
      "MSE 21: 28.034851148290542\n",
      "MSE 22: 27.89334674329048\n",
      "MSE 23: 25.45762499713589\n",
      "MSE 24: 27.14217556950344\n",
      "MSE 25: 30.552818921777423\n",
      "MSE 26: 30.090431133134466\n",
      "MSE 27: 26.959693544505097\n",
      "MSE 28: 24.95158086239713\n",
      "MSE 29: 33.04095168869858\n",
      "MSE 30: 30.228568302389103\n",
      "MSE 31: 26.419417563379774\n",
      "MSE 32: 24.086218046910556\n",
      "MSE 33: 24.50766471443053\n",
      "MSE 34: 29.96185242242412\n",
      "MSE 35: 28.197562060309846\n",
      "MSE 36: 33.35152326046842\n",
      "MSE 37: 26.75168337713939\n",
      "MSE 38: 29.82188845143735\n",
      "MSE 39: 28.929020199575085\n",
      "MSE 40: 24.456704692161583\n",
      "MSE 41: 30.724639818506333\n",
      "MSE 42: 24.77810813385306\n",
      "MSE 43: 27.21590821102599\n",
      "MSE 44: 34.43390259233493\n",
      "MSE 45: 30.91148401155441\n",
      "MSE 46: 27.331850292613204\n",
      "MSE 47: 28.97936616669195\n",
      "MSE 48: 30.063187139319755\n",
      "MSE 49: 30.021159020828197\n",
      "MSE 50: 30.00779080931037\n",
      "\n",
      "\n",
      "Herein is the mean and standard deviation of 50 mean squared errors with normalized data. \n",
      "Number of epochs = 50\n",
      "\n",
      "Mean: 28.631114039124235\n",
      "Standard Deviation: 2.6233204079739436\n"
     ]
    }
   ],
   "source": [
    "total_mean_squared_errors = 50\n",
    "epochs = 50\n",
    "mean_squared_errors = []\n",
    "for i in range(0, total_mean_squared_errors):\n",
    "    X_train, X_test, y_train, y_test = train_test_split(predictors_norm, target, test_size=0.3, random_state=i)\n",
    "    model.fit(X_train, y_train, epochs=epochs, verbose=0)\n",
    "    MSE = model.evaluate(X_test, y_test, verbose=0)\n",
    "    print(\"MSE \"+str(i+1)+\": \"+str(MSE))\n",
    "    y_pred = model.predict(X_test)\n",
    "    mean_square_error = mean_squared_error(y_test, y_pred)\n",
    "    mean_squared_errors.append(mean_square_error)\n",
    "\n",
    "mean_squared_errors = np.array(mean_squared_errors)\n",
    "mean = np.mean(mean_squared_errors)\n",
    "standard_deviation = np.std(mean_squared_errors)\n",
    "\n",
    "print('\\n')\n",
    "print(\"Herein is the mean and standard deviation of \" +str(total_mean_squared_errors) + \" mean squared errors with normalized data. \\nNumber of epochs = \" +str(epochs) + \"\\n\")\n",
    "print(\"Mean: \"+str(mean))\n",
    "print(\"Standard Deviation: \"+str(standard_deviation))"
   ]
  },
  {
   "cell_type": "markdown",
   "metadata": {},
   "source": [
    "### We see that the mean in Step D is lesser than the mean of Step B."
   ]
  }
 ],
 "metadata": {
  "kernelspec": {
   "display_name": "Python 3.7.6 64-bit",
   "language": "python",
   "name": "python37664bit4c7bbc92294645e0b4617d2c13a4720f"
  },
  "language_info": {
   "codemirror_mode": {
    "name": "ipython",
    "version": 3
   },
   "file_extension": ".py",
   "mimetype": "text/x-python",
   "name": "python",
   "nbconvert_exporter": "python",
   "pygments_lexer": "ipython3",
   "version": "3.7.6"
  }
 },
 "nbformat": 4,
 "nbformat_minor": 4
}
